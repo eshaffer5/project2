{
 "cells": [
  {
   "cell_type": "code",
   "execution_count": 1,
   "metadata": {
    "scrolled": true
   },
   "outputs": [
    {
     "name": "stdout",
     "output_type": "stream",
     "text": [
      "What is your name? Ehtna\n",
      "Hello, Ehtna let's play hangman!\n",
      "\n",
      "Start guessing...\n",
      "_\n",
      "_\n",
      "_\n",
      "_\n",
      "_\n",
      "Guess a character:Q\n",
      "Q\n",
      "Q\n",
      "_\n",
      "_\n",
      "_\n",
      "Guess a character:J\n",
      "Q\n",
      "Q\n",
      "J\n",
      "_\n",
      "_\n",
      "Guess a character:Y\n",
      "Q\n",
      "Q\n",
      "J\n",
      "Y\n",
      "_\n",
      "Guess a character:F\n",
      "Q\n",
      "Q\n",
      "J\n",
      "Y\n",
      "F\n",
      "You won\n"
     ]
    },
    {
     "ename": "UnboundLocalError",
     "evalue": "local variable 'plain_text' referenced before assignment",
     "output_type": "error",
     "traceback": [
      "\u001b[1;31m---------------------------------------------------------------------------\u001b[0m",
      "\u001b[1;31mUnboundLocalError\u001b[0m                         Traceback (most recent call last)",
      "\u001b[1;32m<ipython-input-1-f2ad696c38af>\u001b[0m in \u001b[0;36m<module>\u001b[1;34m\u001b[0m\n\u001b[0;32m     47\u001b[0m         \u001b[0mi\u001b[0m \u001b[1;33m+=\u001b[0m \u001b[1;36m1\u001b[0m\u001b[1;33m\u001b[0m\u001b[1;33m\u001b[0m\u001b[0m\n\u001b[0;32m     48\u001b[0m     \u001b[1;32mreturn\u001b[0m \u001b[0mciphertext\u001b[0m\u001b[1;33m\u001b[0m\u001b[1;33m\u001b[0m\u001b[0m\n\u001b[1;32m---> 49\u001b[1;33m \u001b[0mdecrypt\u001b[0m \u001b[1;33m(\u001b[0m\u001b[0mword\u001b[0m\u001b[1;33m)\u001b[0m\u001b[1;33m\u001b[0m\u001b[1;33m\u001b[0m\u001b[0m\n\u001b[0m",
      "\u001b[1;32m<ipython-input-1-f2ad696c38af>\u001b[0m in \u001b[0;36mdecrypt\u001b[1;34m(word)\u001b[0m\n\u001b[0;32m     41\u001b[0m         \u001b[1;32mif\u001b[0m \u001b[0mi\u001b[0m \u001b[1;33m%\u001b[0m \u001b[1;36m2\u001b[0m \u001b[1;33m==\u001b[0m \u001b[1;36m0\u001b[0m\u001b[1;33m:\u001b[0m\u001b[1;33m\u001b[0m\u001b[1;33m\u001b[0m\u001b[0m\n\u001b[0;32m     42\u001b[0m             \u001b[0mciphertext\u001b[0m \u001b[1;33m=\u001b[0m \u001b[0mcipher_asciinum\u001b[0m \u001b[1;33m-\u001b[0m \u001b[1;36m1\u001b[0m\u001b[1;33m\u001b[0m\u001b[1;33m\u001b[0m\u001b[0m\n\u001b[1;32m---> 43\u001b[1;33m             \u001b[0mplain_text\u001b[0m \u001b[1;33m+=\u001b[0m \u001b[0mchr\u001b[0m\u001b[1;33m(\u001b[0m\u001b[0mplain_ascii\u001b[0m\u001b[1;33m)\u001b[0m\u001b[1;33m\u001b[0m\u001b[1;33m\u001b[0m\u001b[0m\n\u001b[0m\u001b[0;32m     44\u001b[0m         \u001b[1;32melif\u001b[0m \u001b[0mi\u001b[0m \u001b[1;33m%\u001b[0m \u001b[1;36m2\u001b[0m \u001b[1;33m!=\u001b[0m \u001b[1;36m0\u001b[0m\u001b[1;33m:\u001b[0m\u001b[1;33m\u001b[0m\u001b[1;33m\u001b[0m\u001b[0m\n\u001b[0;32m     45\u001b[0m             \u001b[0mplain_ascii\u001b[0m \u001b[1;33m=\u001b[0m \u001b[0mcipher_asciinum\u001b[0m \u001b[1;33m-\u001b[0m \u001b[1;36m1\u001b[0m\u001b[1;33m\u001b[0m\u001b[1;33m\u001b[0m\u001b[0m\n",
      "\u001b[1;31mUnboundLocalError\u001b[0m: local variable 'plain_text' referenced before assignment"
     ]
    }
   ],
   "source": [
    "import time\n",
    "import random\n",
    "\n",
    "name = input(\"What is your name? \")\n",
    "print (\"Hello, \" + name + \" let's play hangman!\")\n",
    "print (\"\")\n",
    "time.sleep(1)\n",
    "print (\"Start guessing...\")\n",
    "time.sleep(1)\n",
    "word = random.choice([\"WHDSPQZ\", \"XHO\", \"TTDBFR\", \"QQJYF\", \"ENQD\", \"DNPK\", \"CNTR\", \"EHWHOD\", \"TSVMOHOF\", \"XNOCFQGTM\"])\n",
    "guesses = ''\n",
    "turns = 10\n",
    "\n",
    "while turns > 0:         \n",
    "    failed = 0                \n",
    "    for char in word:      \n",
    "        if char in guesses:    \n",
    "            print (char)    \n",
    "        else:\n",
    "            print (\"_\")     \n",
    "            failed += 1    \n",
    "    if failed == 0:        \n",
    "        print (\"You won\")  \n",
    "        break\n",
    "    print   \n",
    "    guess = input(\"Guess a character:\") \n",
    "    guesses += guess                    \n",
    "    if guess not in word:  \n",
    "        turns -= 1        \n",
    "        print (\"Wrong\")    \n",
    "        print (\"You have \" + str(turns) + \" more guesses\")\n",
    "        if turns == 0:           \n",
    "            print (\"You Lose\")\n",
    "def decrypt(word):                      \n",
    "    plaintext = ''\n",
    "    i = 0\n",
    "    while i < len(word):\n",
    "        cipherlist = list(word)\n",
    "        cipher_ascii = random.choice(cipherlist)\n",
    "        cipher_asciinum = ord(cipher_ascii)\n",
    "        if i % 2 == 0:\n",
    "            ciphertext = cipher_asciinum - 1\n",
    "            plain_text += chr(plain_ascii)\n",
    "        elif i % 2 != 0:\n",
    "            plain_ascii = cipher_asciinum - 1\n",
    "            ciphertext += chr(plain_ascii)\n",
    "        i += 1\n",
    "    return ciphertext\n",
    "decrypt (word)"
   ]
  },
  {
   "cell_type": "code",
   "execution_count": null,
   "metadata": {},
   "outputs": [],
   "source": []
  },
  {
   "cell_type": "code",
   "execution_count": null,
   "metadata": {},
   "outputs": [],
   "source": []
  },
  {
   "cell_type": "code",
   "execution_count": null,
   "metadata": {},
   "outputs": [],
   "source": []
  },
  {
   "cell_type": "code",
   "execution_count": null,
   "metadata": {},
   "outputs": [],
   "source": []
  },
  {
   "cell_type": "code",
   "execution_count": null,
   "metadata": {},
   "outputs": [],
   "source": []
  },
  {
   "cell_type": "code",
   "execution_count": null,
   "metadata": {},
   "outputs": [],
   "source": []
  },
  {
   "cell_type": "code",
   "execution_count": null,
   "metadata": {},
   "outputs": [],
   "source": []
  },
  {
   "cell_type": "code",
   "execution_count": null,
   "metadata": {},
   "outputs": [],
   "source": []
  },
  {
   "cell_type": "code",
   "execution_count": null,
   "metadata": {},
   "outputs": [],
   "source": []
  },
  {
   "cell_type": "code",
   "execution_count": null,
   "metadata": {},
   "outputs": [],
   "source": []
  },
  {
   "cell_type": "code",
   "execution_count": null,
   "metadata": {},
   "outputs": [],
   "source": []
  },
  {
   "cell_type": "code",
   "execution_count": null,
   "metadata": {},
   "outputs": [],
   "source": []
  },
  {
   "cell_type": "code",
   "execution_count": null,
   "metadata": {},
   "outputs": [],
   "source": []
  },
  {
   "cell_type": "code",
   "execution_count": null,
   "metadata": {},
   "outputs": [],
   "source": []
  },
  {
   "cell_type": "code",
   "execution_count": null,
   "metadata": {},
   "outputs": [],
   "source": []
  },
  {
   "cell_type": "code",
   "execution_count": null,
   "metadata": {},
   "outputs": [],
   "source": []
  },
  {
   "cell_type": "code",
   "execution_count": null,
   "metadata": {},
   "outputs": [],
   "source": []
  },
  {
   "cell_type": "code",
   "execution_count": null,
   "metadata": {},
   "outputs": [],
   "source": []
  },
  {
   "cell_type": "code",
   "execution_count": null,
   "metadata": {},
   "outputs": [],
   "source": []
  },
  {
   "cell_type": "code",
   "execution_count": null,
   "metadata": {},
   "outputs": [],
   "source": []
  }
 ],
 "metadata": {
  "kernelspec": {
   "display_name": "Python 3",
   "language": "python",
   "name": "python3"
  },
  "language_info": {
   "codemirror_mode": {
    "name": "ipython",
    "version": 3
   },
   "file_extension": ".py",
   "mimetype": "text/x-python",
   "name": "python",
   "nbconvert_exporter": "python",
   "pygments_lexer": "ipython3",
   "version": "3.8.5"
  }
 },
 "nbformat": 4,
 "nbformat_minor": 4
}
